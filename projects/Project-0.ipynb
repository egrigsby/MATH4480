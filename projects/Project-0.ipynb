{
 "cells": [
  {
   "cell_type": "markdown",
   "metadata": {
    "colab_type": "text",
    "id": "Fcv5toyVSepj"
   },
   "source": [
    "# Project 0: Introduction to Python\n",
    "\n",
    "Complete each of the exercises below. Write your code only in the cells containing the message:\n",
    "\n",
    "<font color='green'>############ Your code goes here ##################\n",
    "\n",
    "###################################################\n",
    "</font>\n",
    "  \n",
    "Do **NOT** change any other code. You can create new code cells to try things however before you submit the project please delete them. \n",
    "\n",
    "You are provided test functions for some of the exercises. In order to be able to run the tests you need to run the code cell below everytime you open this notebook or reset the runtime. "
   ]
  },
  {
   "cell_type": "code",
   "execution_count": null,
   "metadata": {
    "colab": {
     "base_uri": "https://localhost:8080/",
     "height": 119
    },
    "colab_type": "code",
    "executionInfo": {
     "elapsed": 2495,
     "status": "ok",
     "timestamp": 1579630269680,
     "user": {
      "displayName": "Cihan Soylu",
      "photoUrl": "https://lh4.googleusercontent.com/-i3-9q-bZNSc/AAAAAAAAAAI/AAAAAAAAAng/7qvvlFUHucw/s64/photo.jpg",
      "userId": "04575478996568472015"
     },
     "user_tz": 300
    },
    "id": "WRwQW2THuYst",
    "outputId": "4f614380-dfe9-42b2-f3b6-5977eff4faae"
   },
   "outputs": [],
   "source": [
    "import os \n",
    "\n",
    "if not os.path.isdir('MATH448001'):\n",
    "    !git clone https://github.com/CihanSoylu/MATH448001.git\n",
    "\n",
    "from MATH448001.project_tests import project_0_tests"
   ]
  },
  {
   "cell_type": "markdown",
   "metadata": {
    "colab_type": "text",
    "id": "XTPLQRc5-i49"
   },
   "source": [
    "## Exercise 1 \n",
    "Print 'Hello world!' using the `print()` function in the following code cell."
   ]
  },
  {
   "cell_type": "code",
   "execution_count": null,
   "metadata": {
    "colab": {},
    "colab_type": "code",
    "id": "FrE6uEmu8cvl"
   },
   "outputs": [],
   "source": [
    "############ Your code goes here ##################\n",
    "\n",
    "###################################################"
   ]
  },
  {
   "cell_type": "markdown",
   "metadata": {
    "colab_type": "text",
    "id": "yXEyTOf8GLm_"
   },
   "source": [
    "Expected output:\n",
    "\n",
    "\n",
    "> Hello world!\n",
    "\n"
   ]
  },
  {
   "cell_type": "markdown",
   "metadata": {
    "colab_type": "text",
    "id": "Eeihcsaa_352"
   },
   "source": [
    "## Exercise 2 \n",
    "Create a variable named 'var' with value 1. Print the variable using the `print()` function.\n",
    "\n"
   ]
  },
  {
   "cell_type": "code",
   "execution_count": null,
   "metadata": {
    "colab": {},
    "colab_type": "code",
    "id": "qo_5awnB_bBf"
   },
   "outputs": [],
   "source": [
    "############ Your code goes here ##################\n",
    "\n",
    "###################################################"
   ]
  },
  {
   "cell_type": "markdown",
   "metadata": {
    "colab_type": "text",
    "id": "CmZVsoYoGZtk"
   },
   "source": [
    "Expected output:\n",
    "\n",
    "\n",
    "> 1\n",
    "\n"
   ]
  },
  {
   "cell_type": "markdown",
   "metadata": {
    "colab_type": "text",
    "id": "Jf7l5z_aAyUc"
   },
   "source": [
    "## Exercise 3 \n",
    "Create a variable named 'name' with value your name as a string. Print this variable."
   ]
  },
  {
   "cell_type": "code",
   "execution_count": null,
   "metadata": {
    "colab": {},
    "colab_type": "code",
    "id": "I26xBYYVAXd-"
   },
   "outputs": [],
   "source": [
    "############ Your code goes here ##################\n",
    "\n",
    "###################################################"
   ]
  },
  {
   "cell_type": "markdown",
   "metadata": {
    "colab_type": "text",
    "id": "tgcsFFs0Cc_F"
   },
   "source": [
    "## Exercise 4 \n",
    "Import the 'math' library via `import math` and print the values of $\\pi$ and $e$ on two separate lines. You can access these values via `math.pi` and `math.e`. "
   ]
  },
  {
   "cell_type": "code",
   "execution_count": null,
   "metadata": {
    "colab": {},
    "colab_type": "code",
    "id": "FAQXT81iCcNM"
   },
   "outputs": [],
   "source": [
    "############ Your code goes here ##################\n",
    "\n",
    "###################################################"
   ]
  },
  {
   "cell_type": "markdown",
   "metadata": {
    "colab_type": "text",
    "id": "8p3KTbUoGoV6"
   },
   "source": [
    "Expected output:\n",
    "\n",
    "> 3.141592653589793 \\\n",
    "> 2.718281828459045\n"
   ]
  },
  {
   "cell_type": "markdown",
   "metadata": {
    "colab_type": "text",
    "id": "y56Ipzo6DK2Z"
   },
   "source": [
    "## Exercise 5 \n",
    "Import the 'numpy' library with alias 'np' via `import numpy as np` and print the values of $\\pi$ and $e$ from numpy on two separate lines. "
   ]
  },
  {
   "cell_type": "code",
   "execution_count": null,
   "metadata": {
    "colab": {},
    "colab_type": "code",
    "id": "NIzFTQg4DCqF"
   },
   "outputs": [],
   "source": [
    "############ Your code goes here ##################\n",
    "\n",
    "###################################################"
   ]
  },
  {
   "cell_type": "markdown",
   "metadata": {
    "colab_type": "text",
    "id": "9XMOTddCGvDN"
   },
   "source": [
    "Expected output:\n",
    "\n",
    "\n",
    "> 3.141592653589793 \\\n",
    "> 2.718281828459045\n"
   ]
  },
  {
   "cell_type": "markdown",
   "metadata": {
    "colab_type": "text",
    "id": "Kp2Uxj4zBvWh"
   },
   "source": [
    "## Exercise 6 \n",
    "Perform the following computation in the code cell below using the numpy library.\n",
    "$$\n",
    "\\frac{1}{2\\pi}e^{-3/2}.\n",
    "$$"
   ]
  },
  {
   "cell_type": "code",
   "execution_count": null,
   "metadata": {
    "colab": {},
    "colab_type": "code",
    "id": "693kg0ZMBusW"
   },
   "outputs": [],
   "source": [
    "############ Your code goes here ##################\n",
    "\n",
    "###################################################"
   ]
  },
  {
   "cell_type": "markdown",
   "metadata": {
    "colab_type": "text",
    "id": "ACAu400VG1NV"
   },
   "source": [
    "Expected output:\n",
    "\n",
    "\n",
    "> 0.035512267940508845\n",
    "\n"
   ]
  },
  {
   "cell_type": "markdown",
   "metadata": {
    "colab_type": "text",
    "id": "2qZgZJGzB0Eb"
   },
   "source": [
    "## Exercise 7 \n",
    "Implement the square function $f(x) = x^2$. Name your function 'square_of'. Note that in Python powers are taken by `**`. For example $3^2$ would be calculated in Python as `3**2`."
   ]
  },
  {
   "cell_type": "code",
   "execution_count": null,
   "metadata": {
    "colab": {},
    "colab_type": "code",
    "id": "d72fQpP5Bq82"
   },
   "outputs": [],
   "source": [
    "############ Your code goes here ##################\n",
    "\n",
    "###################################################"
   ]
  },
  {
   "cell_type": "code",
   "execution_count": null,
   "metadata": {
    "colab": {},
    "colab_type": "code",
    "id": "Fn632AcC5Hp3"
   },
   "outputs": [],
   "source": [
    "project_0_tests.test_square_function(square_of)"
   ]
  },
  {
   "cell_type": "markdown",
   "metadata": {
    "colab_type": "text",
    "id": "0dcKsz32CNq9"
   },
   "source": [
    "## Exercise 8 \n",
    "Implement a function named 'my_name_is' that takes a string argument named 'name' with default value 'Jeff' and returns the following string:\n",
    "\n",
    "'My name is ...'\n",
    "\n",
    "with ... replaced with the name argument. "
   ]
  },
  {
   "cell_type": "code",
   "execution_count": null,
   "metadata": {
    "colab": {},
    "colab_type": "code",
    "id": "Syx8FphnCKWn"
   },
   "outputs": [],
   "source": [
    "############ Your code goes here ##################\n",
    "\n",
    "###################################################"
   ]
  },
  {
   "cell_type": "code",
   "execution_count": null,
   "metadata": {
    "colab": {},
    "colab_type": "code",
    "id": "5IfpuJBrC3aI"
   },
   "outputs": [],
   "source": [
    "my_name_is()"
   ]
  },
  {
   "cell_type": "markdown",
   "metadata": {
    "colab_type": "text",
    "id": "VJwtGoIdHAL9"
   },
   "source": [
    "Expected output:\n",
    "\n",
    "\n",
    "> 'My name is Jeff'\n",
    "\n"
   ]
  },
  {
   "cell_type": "code",
   "execution_count": null,
   "metadata": {
    "colab": {},
    "colab_type": "code",
    "id": "HpXoF9qeFllf"
   },
   "outputs": [],
   "source": [
    "my_name_is('Indy')"
   ]
  },
  {
   "cell_type": "markdown",
   "metadata": {
    "colab_type": "text",
    "id": "Gd4Ou60zHGda"
   },
   "source": [
    "Expected output:\n",
    "\n",
    "\n",
    "> My name is Indy\n",
    "\n"
   ]
  },
  {
   "cell_type": "markdown",
   "metadata": {
    "colab_type": "text",
    "id": "GCx9OMHdC_Xy"
   },
   "source": [
    "## Exercise 9 \n",
    "Implement the following function of two variables $\\mu$ and $\\sigma$: \n",
    "$$\n",
    "p(x) = \\frac{1}{\\sqrt{2\\pi\\sigma^2}}e^{-\\frac{(x-\\mu)^2}{2\\sigma^2}}.\n",
    "$$\n",
    "This is the probability density function of the normal distribution with mean $\\mu$ and standard deviation $\\sigma$. Name the function 'normal_pdf'."
   ]
  },
  {
   "cell_type": "code",
   "execution_count": null,
   "metadata": {
    "colab": {},
    "colab_type": "code",
    "id": "yXNS_1r8C5H_"
   },
   "outputs": [],
   "source": [
    "import numpy as np\n",
    "\n",
    "def normal_pdf(mu, sigma, x):\n",
    "    ############ Your code goes here ##################\n",
    "\n",
    "    ###################################################"
   ]
  },
  {
   "cell_type": "code",
   "execution_count": null,
   "metadata": {
    "colab": {},
    "colab_type": "code",
    "id": "aMuXedMmDOPz"
   },
   "outputs": [],
   "source": [
    "project_0_tests.test_normal_pdf(normal_pdf)"
   ]
  },
  {
   "cell_type": "markdown",
   "metadata": {
    "colab_type": "text",
    "id": "24VRYrFmP7TP"
   },
   "source": [
    "## Exercise 10 \n",
    "Implement a function `is_even` that takes an integer as an argument and returns True if its argument is even and False otherwise. \n",
    "\n",
    "Hint: `%` serves as mod in Python. "
   ]
  },
  {
   "cell_type": "code",
   "execution_count": null,
   "metadata": {
    "colab": {},
    "colab_type": "code",
    "id": "h1E4OV93QN-R"
   },
   "outputs": [],
   "source": [
    "def is_even(x):\n",
    "    ############ Your code goes here ##################\n",
    "\n",
    "    ###################################################"
   ]
  },
  {
   "cell_type": "code",
   "execution_count": null,
   "metadata": {
    "colab": {},
    "colab_type": "code",
    "id": "Wp55NEIjFvn2"
   },
   "outputs": [],
   "source": [
    "project_0_tests.test_is_even(is_even)"
   ]
  },
  {
   "cell_type": "markdown",
   "metadata": {
    "colab_type": "text",
    "id": "qTFCSpozDV15"
   },
   "source": [
    "## Exercise 11 \n",
    "Write a `for` loop that loops over all numbers 1 to 20 and prints the following for each number:\n",
    "'The square of x is x^2'\n",
    "where x is replaced by the number and x^2 is replaced by the square of the number for each. "
   ]
  },
  {
   "cell_type": "code",
   "execution_count": null,
   "metadata": {
    "colab": {},
    "colab_type": "code",
    "id": "va9hkizrDTth"
   },
   "outputs": [],
   "source": [
    "############ Your code goes here ##################\n",
    "\n",
    "###################################################"
   ]
  },
  {
   "cell_type": "markdown",
   "metadata": {
    "colab_type": "text",
    "id": "LKrE6qu4HN6z"
   },
   "source": [
    "Expected output:\n",
    "\n",
    "```\n",
    "The square of 1 is 1\n",
    "The square of 2 is 4\n",
    "The square of 3 is 9\n",
    "The square of 4 is 16\n",
    "The square of 5 is 25\n",
    "The square of 6 is 36\n",
    "The square of 7 is 49\n",
    "The square of 8 is 64\n",
    "The square of 9 is 81\n",
    "The square of 10 is 100\n",
    "The square of 11 is 121\n",
    "The square of 12 is 144\n",
    "The square of 13 is 169\n",
    "The square of 14 is 196\n",
    "The square of 15 is 225\n",
    "The square of 16 is 256\n",
    "The square of 17 is 289\n",
    "The square of 18 is 324\n",
    "The square of 19 is 361\n",
    "The square of 20 is 400\n",
    "```\n",
    "\n"
   ]
  },
  {
   "cell_type": "markdown",
   "metadata": {
    "colab_type": "text",
    "id": "aAB-SYXiD63_"
   },
   "source": [
    "## Exercise 12 \n",
    "Implement a function `sum_of_squares` that takes a list of numbers as its argument and returns the sum of the squares of the numbers in the list."
   ]
  },
  {
   "cell_type": "code",
   "execution_count": null,
   "metadata": {
    "colab": {},
    "colab_type": "code",
    "id": "vncPKp_DD2vi"
   },
   "outputs": [],
   "source": [
    "def sum_of_squares(lst):\n",
    "    ############ Your code goes here ##################\n",
    "        \n",
    "    ###################################################\n"
   ]
  },
  {
   "cell_type": "code",
   "execution_count": null,
   "metadata": {
    "colab": {},
    "colab_type": "code",
    "id": "aTWaie_EF7U9"
   },
   "outputs": [],
   "source": [
    "project_0_tests.test_sum_of_squares(sum_of_squares)"
   ]
  },
  {
   "cell_type": "markdown",
   "metadata": {
    "colab_type": "text",
    "id": "lEVx4fIGGzqu"
   },
   "source": [
    "## Exercise 13\n",
    "Implement a function `taylor_exp` that approximates $e^x$ using the Taylor series\n",
    "$$ e^x = \\displaystyle\\sum_{k=0}^\\infty \\frac{x^k}{k!}.$$\n",
    "Your function will take two arguments: \n",
    "\n",
    " - $x$: the point at which we are approximating $e^x$\n",
    " - $n$: the order of the Taylor polynomial for the approximation:\n",
    " \n",
    " $$\n",
    " e^x \\approx \\displaystyle\\sum_{k=0}^n \\frac{x^k}{k!}\n",
    " $$\n",
    " \n",
    " You can use the `math.factorial()` function from the math library to compute $k!$.\n",
    " \n",
    " Remember that in Python the syntax for powers is as follows: $x^k$ is written as `x**k`. \n",
    "\n"
   ]
  },
  {
   "cell_type": "code",
   "execution_count": null,
   "metadata": {
    "colab": {},
    "colab_type": "code",
    "id": "E0rncVdIDU9n"
   },
   "outputs": [],
   "source": [
    "import math\n",
    "\n",
    "def taylor_exp(x, n):\n",
    "    ########## Your Code goes here #############\n",
    "\n",
    "    ############################################"
   ]
  },
  {
   "cell_type": "code",
   "execution_count": null,
   "metadata": {
    "colab": {},
    "colab_type": "code",
    "id": "3oNSy8OODXmI"
   },
   "outputs": [],
   "source": [
    "project_0_tests.test_taylor_exp(taylor_exp)"
   ]
  },
  {
   "cell_type": "markdown",
   "metadata": {
    "colab_type": "text",
    "id": "aBQ3gy7bIxj1"
   },
   "source": [
    "## Exercise 14\n",
    "Implement a function `is_prime` that determines if a given integer is prime or not. Your function has one integer argument `n` and returns True if `n` is prime and False otherwise. A basic algorithm goes as follows:\n",
    "\n",
    " - Loop over the numbers 2 to `n-1` and check if `n` is divisible by these numbers. \n",
    " - If you find a number that divides `n` return False.\n",
    " - If you reach the end of the loop without finding a divisor, return True. \n",
    " \n",
    "This algorithm works but is inefficient since it involves unnecessary checks. Can you think of a faster algorithm?"
   ]
  },
  {
   "cell_type": "code",
   "execution_count": null,
   "metadata": {
    "colab": {},
    "colab_type": "code",
    "id": "ivE4HDGDIs9x"
   },
   "outputs": [],
   "source": [
    "def is_prime(n):\n",
    " \n",
    "    ########## Your Code goes here #############\n",
    "  \n",
    "    ############################################"
   ]
  },
  {
   "cell_type": "code",
   "execution_count": null,
   "metadata": {
    "colab": {},
    "colab_type": "code",
    "id": "j9OT6991jLZJ"
   },
   "outputs": [],
   "source": [
    "project_0_tests.test_is_prime(is_prime)"
   ]
  },
  {
   "cell_type": "code",
   "execution_count": null,
   "metadata": {
    "colab": {},
    "colab_type": "code",
    "id": "VDSalXYiE3l7"
   },
   "outputs": [],
   "source": [
    "is_prime(7)"
   ]
  },
  {
   "cell_type": "markdown",
   "metadata": {
    "colab_type": "text",
    "id": "NDtVbammHeEF"
   },
   "source": [
    "Expected output: \n",
    "\n",
    "```True```"
   ]
  },
  {
   "cell_type": "code",
   "execution_count": null,
   "metadata": {
    "colab": {},
    "colab_type": "code",
    "id": "lBvtLVcGE5yh"
   },
   "outputs": [],
   "source": [
    "is_prime(12)"
   ]
  },
  {
   "cell_type": "markdown",
   "metadata": {
    "colab_type": "text",
    "id": "CslhZx7cHoPr"
   },
   "source": [
    "Expected output: \n",
    "\n",
    "```False```"
   ]
  },
  {
   "cell_type": "code",
   "execution_count": null,
   "metadata": {
    "colab": {},
    "colab_type": "code",
    "id": "E8fgMBqxFQnj"
   },
   "outputs": [],
   "source": [
    "is_prime(1001)"
   ]
  },
  {
   "cell_type": "markdown",
   "metadata": {
    "colab_type": "text",
    "id": "ToOe-cz9Hkyf"
   },
   "source": [
    "Expected output: \n",
    "\n",
    "```False```"
   ]
  },
  {
   "cell_type": "code",
   "execution_count": null,
   "metadata": {
    "colab": {},
    "colab_type": "code",
    "id": "Ndnft4UCECIL"
   },
   "outputs": [],
   "source": [
    "is_prime(2147483647)"
   ]
  },
  {
   "cell_type": "markdown",
   "metadata": {
    "colab_type": "text",
    "id": "dyazUjrvHi_I"
   },
   "source": [
    "Expected output: \n",
    "\n",
    "```True```"
   ]
  },
  {
   "cell_type": "markdown",
   "metadata": {
    "colab_type": "text",
    "id": "u0IyNkLqlNaT"
   },
   "source": [
    "## Exercise 15\n",
    "\n",
    "Implement a function `factorize` that takes a positive integer as its argument and returns the list of primes (not necessarily unique) in its prime factorization. For example, `factorize(12)` will return `[2,2,3]`."
   ]
  },
  {
   "cell_type": "code",
   "execution_count": null,
   "metadata": {
    "colab": {},
    "colab_type": "code",
    "id": "uwAl26WOFJrM"
   },
   "outputs": [],
   "source": [
    "def factorize(n):\n",
    "    ########## Your Code goes here #############\n",
    "\n",
    "    ############################################\n"
   ]
  },
  {
   "cell_type": "code",
   "execution_count": null,
   "metadata": {
    "colab": {},
    "colab_type": "code",
    "id": "AVAehZDpsq4n"
   },
   "outputs": [],
   "source": [
    "project_0_tests.test_factorize(factorize)"
   ]
  },
  {
   "cell_type": "code",
   "execution_count": null,
   "metadata": {
    "colab": {},
    "colab_type": "code",
    "id": "D8-yakQTo9b6"
   },
   "outputs": [],
   "source": [
    "factorize(12)"
   ]
  },
  {
   "cell_type": "markdown",
   "metadata": {
    "colab_type": "text",
    "id": "xEwkh3jPHwx_"
   },
   "source": [
    "Expected output:\n",
    "\n",
    "```[2, 2, 3]```"
   ]
  },
  {
   "cell_type": "code",
   "execution_count": null,
   "metadata": {
    "colab": {},
    "colab_type": "code",
    "id": "U7rGbaxvnJXj"
   },
   "outputs": [],
   "source": [
    "factorize(142135215)"
   ]
  },
  {
   "cell_type": "markdown",
   "metadata": {
    "colab_type": "text",
    "id": "PFMh80jSH1kM"
   },
   "source": [
    "Expected output:\n",
    "\n",
    "```[3, 5, 17, 547, 1019]```"
   ]
  },
  {
   "cell_type": "code",
   "execution_count": null,
   "metadata": {
    "colab": {},
    "colab_type": "code",
    "id": "NgNqgWF2l4u3"
   },
   "outputs": [],
   "source": [
    "factorize(5)"
   ]
  },
  {
   "cell_type": "markdown",
   "metadata": {
    "colab_type": "text",
    "id": "Hf4bHQE6H5D2"
   },
   "source": [
    "Expected output:\n",
    "\n",
    "```[5]```"
   ]
  }
 ],
 "metadata": {
  "colab": {
   "collapsed_sections": [],
   "name": "Project-0.ipynb",
   "provenance": []
  },
  "kernelspec": {
   "display_name": "Python 3",
   "language": "python",
   "name": "python3"
  },
  "language_info": {
   "codemirror_mode": {
    "name": "ipython",
    "version": 3
   },
   "file_extension": ".py",
   "mimetype": "text/x-python",
   "name": "python",
   "nbconvert_exporter": "python",
   "pygments_lexer": "ipython3",
   "version": "3.7.4"
  }
 },
 "nbformat": 4,
 "nbformat_minor": 1
}
