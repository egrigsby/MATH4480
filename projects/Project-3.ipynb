{
 "cells": [
  {
   "cell_type": "markdown",
   "metadata": {
    "colab_type": "text",
    "id": "1yLU_cZfq-ei"
   },
   "source": [
    "# Project 3: Linear Regression with Keras\n",
    "\n",
    "Complete each of the exercises below. Write your code only in the cells containing the message:\n",
    "\n",
    "<font color='green'>############ Your code goes here ##################\n",
    "\n",
    "###################################################\n",
    "</font>\n",
    "  \n",
    "Do **NOT** change any other code. You can create new code cells to try things however before you submit the project please delete them. \n",
    "\n",
    "You are provided test functions for some of the exercises. In order to be able to run the tests you need to run the code cell below everytime you open this notebook or reset the runtime. \n",
    "\n",
    "In this project you will implement a linear regression model and a logistic regression model using Tensorflow high level API, `tf.keras`.\n",
    "\n",
    "Run the following code cell to import the necessary utility and test functions."
   ]
  },
  {
   "cell_type": "code",
   "execution_count": 0,
   "metadata": {
    "colab": {
     "base_uri": "https://localhost:8080/",
     "height": 153
    },
    "colab_type": "code",
    "executionInfo": {
     "elapsed": 9762,
     "status": "ok",
     "timestamp": 1581947087593,
     "user": {
      "displayName": "Cihan Soylu",
      "photoUrl": "https://lh4.googleusercontent.com/-i3-9q-bZNSc/AAAAAAAAAAI/AAAAAAAAAng/7qvvlFUHucw/s64/photo.jpg",
      "userId": "04575478996568472015"
     },
     "user_tz": 300
    },
    "id": "Uc6z0RbAG6ro",
    "outputId": "092501e1-784d-4264-c98e-ad15335eda32"
   },
   "outputs": [
    {
     "name": "stdout",
     "output_type": "stream",
     "text": [
      "TensorFlow 2.x selected.\n",
      "Cloning into 'MATH448001'...\n",
      "remote: Enumerating objects: 152, done.\u001b[K\n",
      "remote: Counting objects: 100% (152/152), done.\u001b[K\n",
      "remote: Compressing objects: 100% (101/101), done.\u001b[K\n",
      "remote: Total 152 (delta 86), reused 111 (delta 47), pack-reused 0\u001b[K\n",
      "Receiving objects: 100% (152/152), 1.71 MiB | 15.37 MiB/s, done.\n",
      "Resolving deltas: 100% (86/86), done.\n"
     ]
    }
   ],
   "source": [
    "import os \n",
    "import numpy as np\n",
    "import pandas as pd\n",
    "import matplotlib.pyplot as plt\n",
    "import tensorflow as tf\n",
    "\n",
    "if not os.path.isdir('MATH448001'):\n",
    "    !git clone https://github.com/iuls/MATH448001.git\n",
    "\n",
    "from MATH448001.project_tests import project_2_tests\n",
    "from MATH448001.project_utils import project_2_utils, project_3_utils"
   ]
  },
  {
   "cell_type": "markdown",
   "metadata": {
    "colab_type": "text",
    "id": "HdpRIEcTYClu"
   },
   "source": [
    "# Linear Regression"
   ]
  },
  {
   "cell_type": "markdown",
   "metadata": {
    "colab_type": "text",
    "id": "SnNBeFvqI0S1"
   },
   "source": [
    "# Exercise 1 (10 points)\n",
    "\n",
    "Implement a function that returns a linear regression model as a Sequential `tf.keras model`. Your function takes a single argument:\n",
    " - `input_shape`: the shape of the feature vectors as a tuple of integers. \n"
   ]
  },
  {
   "cell_type": "code",
   "execution_count": 0,
   "metadata": {
    "colab": {},
    "colab_type": "code",
    "id": "5tUQOf_jOHM9"
   },
   "outputs": [],
   "source": [
    "def linear_reg_model(input_shape):\n",
    "\n",
    "    ########## Your Code goes here #############\n",
    "\n",
    "\n",
    "    #############################################\n",
    "    \n",
    "    return model"
   ]
  },
  {
   "cell_type": "markdown",
   "metadata": {
    "colab_type": "text",
    "id": "S5Uyvvq__8gM"
   },
   "source": [
    "Let's create a model with input dimension 15 and print the summary of the model. \n",
    "\n"
   ]
  },
  {
   "cell_type": "code",
   "execution_count": 0,
   "metadata": {
    "colab": {},
    "colab_type": "code",
    "id": "WldQBYDPNpb6"
   },
   "outputs": [],
   "source": [
    "model = linear_reg_model((15,))\n",
    "model.summary()"
   ]
  },
  {
   "cell_type": "markdown",
   "metadata": {
    "colab_type": "text",
    "id": "FMpdKE0gAJa4"
   },
   "source": [
    "Expected output: \n",
    "\n",
    "```\n",
    "Model: \"sequential\"\n",
    "_________________________________________________________________\n",
    "Layer (type)                 Output Shape              Param #   \n",
    "=================================================================\n",
    "dense (Dense)                (None, 1)                 16        \n",
    "=================================================================\n",
    "Total params: 16\n",
    "Trainable params: 16\n",
    "Non-trainable params: 0\n",
    "_________________________________________________________________\n",
    "```"
   ]
  },
  {
   "cell_type": "markdown",
   "metadata": {
    "colab_type": "text",
    "id": "Oou5JUkW1YpT"
   },
   "source": [
    "# Exercise 2 (0 points)\n",
    "\n",
    "Let's load a data set to train the model you created. We will use the same dataset as in Ex 5 from Project 2. For more details refer to Project 2. "
   ]
  },
  {
   "cell_type": "code",
   "execution_count": 0,
   "metadata": {
    "colab": {},
    "colab_type": "code",
    "id": "cRq7z5sI1YEV"
   },
   "outputs": [],
   "source": [
    "x_train, y_train, x_val, y_val = project_2_utils.load_regression_data()\n",
    "project_2_utils.plot_regression_data(x_train, y_train)\n",
    "project_2_utils.plot_regression_data(x_val, y_val)"
   ]
  },
  {
   "cell_type": "code",
   "execution_count": 0,
   "metadata": {
    "colab": {},
    "colab_type": "code",
    "id": "0_v74LO_drb5"
   },
   "outputs": [],
   "source": [
    "print(x_train.shape)\n",
    "print(y_train.shape)"
   ]
  },
  {
   "cell_type": "markdown",
   "metadata": {
    "colab_type": "text",
    "id": "a5ve_XFgdvon"
   },
   "source": [
    "# Exercise 3 (15 points)\n",
    "\n",
    "Using the function you implemented in Exercise 1, create a model to train on the above dataset. Then compile your model with an optimizer and a loss function. Use [`tf.keras.optimizers.SGD()`](https://www.tensorflow.org/api_docs/python/tf/keras/optimizers/SGD) as the optimizer and [`tf.keras.losses.MeanSquaredError()\n",
    "`](https://www.tensorflow.org/api_docs/python/tf/keras/losses/MeanSquaredError) as the loss function."
   ]
  },
  {
   "cell_type": "code",
   "execution_count": 0,
   "metadata": {
    "colab": {},
    "colab_type": "code",
    "id": "Qq7U3cjHe5bP"
   },
   "outputs": [],
   "source": [
    "########## Your Code goes here #############\n",
    "\n",
    "# TODO: Create the model\n",
    "model = \n",
    "\n",
    "# TODO: Create the optimizer\n",
    "opt = \n",
    "\n",
    "# TODO: Create the loss function\n",
    "loss = \n",
    "\n",
    "# TODO: Compile the model\n",
    "\n",
    "#############################################\n"
   ]
  },
  {
   "cell_type": "markdown",
   "metadata": {
    "colab_type": "text",
    "id": "eDpM6eCQ1x5S"
   },
   "source": [
    "# Exercise 4 (15 points)\n",
    "\n",
    "Train the model using the [`model.fit`](https://www.tensorflow.org/api_docs/python/tf/keras/Sequential#fit) method. In the documentation, review the arguments that this function accepts. For this exercise you will provide the following arguments, `x`, `y`, `batch_size`, `epochs` and `validation_data`. \n",
    "\n",
    "Set the epochs to 100. Assign the return value of the `fit` method to a variable named `history`.\n",
    "\n",
    "`history = model.fit(...)`"
   ]
  },
  {
   "cell_type": "code",
   "execution_count": 0,
   "metadata": {
    "colab": {},
    "colab_type": "code",
    "id": "NaL_LqypQFQ5"
   },
   "outputs": [],
   "source": [
    "########## Your Code goes here #############\n",
    "\n",
    "history = \n",
    "\n",
    "#############################################"
   ]
  },
  {
   "cell_type": "markdown",
   "metadata": {
    "colab_type": "text",
    "id": "VX_sw0y_klkO"
   },
   "source": [
    "Let's take a look at the parameters learned by gradient descent."
   ]
  },
  {
   "cell_type": "code",
   "execution_count": 0,
   "metadata": {
    "colab": {},
    "colab_type": "code",
    "id": "w2koq0zefrTw"
   },
   "outputs": [],
   "source": [
    "model.get_weights()"
   ]
  },
  {
   "cell_type": "code",
   "execution_count": 0,
   "metadata": {
    "colab": {},
    "colab_type": "code",
    "id": "KhelPhG7kkoR"
   },
   "outputs": [],
   "source": [
    "w, b = model.get_weights()\n",
    "project_2_utils.plot_regression_line(w.squeeze(), b.squeeze())\n",
    "project_2_utils.plot_regression_data(x_train, y_train)"
   ]
  },
  {
   "cell_type": "markdown",
   "metadata": {
    "colab_type": "text",
    "id": "e2Cg26jjl7GW"
   },
   "source": [
    "# Exercise 5 (15 points)\n",
    "\n",
    "Now you will create another linear regression model on the auto-mpg data set from Ex 8 from Project 2. For details on that dataset see the Project 2 notebook. Let's load the data."
   ]
  },
  {
   "cell_type": "code",
   "execution_count": 0,
   "metadata": {
    "colab": {},
    "colab_type": "code",
    "id": "5vB14ie0kz09"
   },
   "outputs": [],
   "source": [
    "df, x_train, y_train, x_val, y_val = project_2_utils.load_auto_mpg_data() "
   ]
  },
  {
   "cell_type": "code",
   "execution_count": 0,
   "metadata": {
    "colab": {},
    "colab_type": "code",
    "id": "8JdNiEW3mWPb"
   },
   "outputs": [],
   "source": [
    "df.head()"
   ]
  },
  {
   "cell_type": "code",
   "execution_count": 0,
   "metadata": {
    "colab": {},
    "colab_type": "code",
    "id": "kx1kAz52mrXd"
   },
   "outputs": [],
   "source": [
    "x_train.shape"
   ]
  },
  {
   "cell_type": "markdown",
   "metadata": {
    "colab_type": "text",
    "id": "A7ZTWGrEmnYE"
   },
   "source": [
    "Using the function you implemented in Exercise 1, create a linear regression model with the appropriate input shape and compile the model with the SGD optimizer and the MSE error function. Also provide a metric to the `model.fit` function to observe during training. Use [`tf.keras.metrics.RootMeanSquaredError()`](https://www.tensorflow.org/api_docs/python/tf/keras/metrics/RootMeanSquaredError). "
   ]
  },
  {
   "cell_type": "code",
   "execution_count": 0,
   "metadata": {
    "colab": {},
    "colab_type": "code",
    "id": "I9u4rhvfmxak"
   },
   "outputs": [],
   "source": [
    "########## Your Code goes here #############\n",
    "\n",
    "# TODO: Create the model. Hint: You'll need to know the number of features in the dataset. \n",
    "model = \n",
    "\n",
    "# TODO: Create the optimizer\n",
    "opt = \n",
    "\n",
    "# TODO: Create the loss function\n",
    "loss = \n",
    "\n",
    "# TODO: Create root mean squared error metric. \n",
    "rmse = \n",
    "\n",
    "# TODO: Compile the model\n",
    "\n",
    "#############################################\n"
   ]
  },
  {
   "cell_type": "markdown",
   "metadata": {
    "colab_type": "text",
    "id": "x459Pb9qnOMh"
   },
   "source": [
    "Train the model. As before assign the value returned by the `fit` method to a variable named history. "
   ]
  },
  {
   "cell_type": "code",
   "execution_count": 0,
   "metadata": {
    "colab": {},
    "colab_type": "code",
    "id": "WKxRTn-YnW3S"
   },
   "outputs": [],
   "source": [
    "########## Your Code goes here #############\n",
    "\n",
    "history = \n",
    "\n",
    "#############################################"
   ]
  },
  {
   "cell_type": "markdown",
   "metadata": {
    "colab_type": "text",
    "id": "xH4BBDVpbHEe"
   },
   "source": [
    "Plot the learning curves:"
   ]
  },
  {
   "cell_type": "code",
   "execution_count": 0,
   "metadata": {
    "colab": {},
    "colab_type": "code",
    "id": "I9UECVNHpCxg"
   },
   "outputs": [],
   "source": [
    "pd.DataFrame(history.history)[['loss', 'val_loss']].plot()"
   ]
  },
  {
   "cell_type": "markdown",
   "metadata": {
    "colab_type": "text",
    "id": "Y6JPWqYppcbe"
   },
   "source": [
    "# Logistic Regression"
   ]
  },
  {
   "cell_type": "markdown",
   "metadata": {
    "colab_type": "text",
    "id": "LA3CGP68qQFN"
   },
   "source": [
    "# Exercise 6 (10 points)\n",
    "\n",
    "Implement a function that returns a logistic regression model as a Sequential `tf.keras model`. Your function takes a single argument:\n",
    " - `input_shape`: the shape of the feature vectors as a tuple of integers. \n",
    "\n",
    "Hint: The logistic regression model is very similar to linear regression model with the only difference being the activation function. \n"
   ]
  },
  {
   "cell_type": "code",
   "execution_count": 0,
   "metadata": {
    "colab": {},
    "colab_type": "code",
    "id": "tJy9AaoRqQFR"
   },
   "outputs": [],
   "source": [
    "def logistic_reg_model(input_shape):\n",
    "\n",
    "    ########## Your Code goes here #############\n",
    "\n",
    "\n",
    "    #############################################\n",
    "    \n",
    "    return model"
   ]
  },
  {
   "cell_type": "markdown",
   "metadata": {
    "colab_type": "text",
    "id": "vRW21WVpCvuV"
   },
   "source": [
    "Let's create a model with input dimension 15 and print the summary of the model. "
   ]
  },
  {
   "cell_type": "code",
   "execution_count": 0,
   "metadata": {
    "colab": {},
    "colab_type": "code",
    "id": "owWUjO7oqQFV"
   },
   "outputs": [],
   "source": [
    "model = logistic_reg_model((15,))\n",
    "model.summary()"
   ]
  },
  {
   "cell_type": "markdown",
   "metadata": {
    "colab_type": "text",
    "id": "25Ywg_vMC5JF"
   },
   "source": [
    "Expected output:\n",
    "\n",
    "```\n",
    "Model: \"sequential\"\n",
    "_________________________________________________________________\n",
    "Layer (type)                 Output Shape              Param #   \n",
    "=================================================================\n",
    "dense (Dense)                (None, 1)                 16        \n",
    "=================================================================\n",
    "Total params: 16\n",
    "Trainable params: 16\n",
    "Non-trainable params: 0\n",
    "_________________________________________________________________\n",
    "```"
   ]
  },
  {
   "cell_type": "markdown",
   "metadata": {
    "colab_type": "text",
    "id": "ctbr_R8ELkR6"
   },
   "source": [
    "# Exercise 7 (0 points)\n",
    "\n",
    "**Load the data**\n",
    "\n",
    "<img src=\"https://drive.google.com/uc?export=view&id=1tglY-F6ovcj4E1n8YSRuj63uBblVFZtN\" alt=\"drawing\" width=\"200\"/> <img src=\"https://drive.google.com/uc?export=view&id=1F3VALSUGG8IAkk61XlqEWstnJXhYDLEp\" alt=\"drawing\" width=\"200\"/>\n",
    "\n",
    "<img src=\"https://drive.google.com/uc?export=view&id=17bKRsWUUC2gI7XGc1LVUh6F1AhcYiamt\" alt=\"drawing\" width=\"200\"/>\n",
    "\n",
    "<img src=\"https://drive.google.com/uc?export=view&id=1zyluxpQljJbUd4G7Sb7GpuMXkEGTlmdx\" alt=\"drawing\" width=\"200\"/>\n",
    "\n"
   ]
  },
  {
   "cell_type": "markdown",
   "metadata": {
    "colab_type": "text",
    "id": "8li_rEFsXikC"
   },
   "source": [
    "The data consists of numerical features that are computed from a digitized image of a fine needle aspirate (FNA) of a breast mass. They describe characteristics of the cell nuclei present in the image. Examples of such images are shown above. The features consists of the mean, standard deviation and extreme values of each of the ten characteristics which results in 30 feature columns. The ten characteristics are listed below:\n",
    "\n",
    " 1- radius(mean of distances from center to points on the perimeter)\n",
    "\n",
    " 2- texture (standard deviation of gray-scale values)\n",
    "\n",
    " 3- perimeter\n",
    "\n",
    " 4- area\n",
    "\n",
    " 5- smoothness (local variation in radius lengths)\n",
    "\n",
    " 6- compactness (perimeter^2 / area - 1.0)\n",
    "\n",
    " 7- concavity (severity of concave portions of the contour)\n",
    "\n",
    " 8- concave points (number of concave portions of the contour)\n",
    "\n",
    " 9- symmetry\n",
    "\n",
    " 10- fractal dimension (\"coastline approximation\" - 1)\n",
    "\n",
    "More details on how these features are calculated can be found [here](http://pages.cs.wisc.edu/~olvi/uwmp/cancer.html).\n",
    "\n",
    "For visualization purposes we will be using only the first two features: radius and texture. Hence the input space is two dimensional. The following function performs the necessary preprocessing for these two features and returns the training set and the validation set:\n",
    "\n",
    " - `x_train` consists of 398 training examples and each example is two dimensional since we are using only two features.\n",
    " - `x_val` consists of 171 validation examples and again each example is two dimensional. \n",
    " - `y_train` consists of the true labels, 0 or 1, for the training examples.\n",
    " - `y_val` consists of the true labels, 0 or 1, for the validation examples. \n",
    "\n",
    "\n",
    "This data is taken from  [UCI Machine Learning Repository](https://archive.ics.uci.edu/ml/datasets/Breast+Cancer+Wisconsin+%28Diagnostic%29). "
   ]
  },
  {
   "cell_type": "code",
   "execution_count": 0,
   "metadata": {
    "colab": {},
    "colab_type": "code",
    "id": "bI39G07zLdEF"
   },
   "outputs": [],
   "source": [
    "x_train, x_val, y_train, y_val = project_2_utils.load_data()"
   ]
  },
  {
   "cell_type": "markdown",
   "metadata": {
    "colab_type": "text",
    "id": "7ueGavzdLDSH"
   },
   "source": [
    "The training data consists of 398 examples and each data point has 2 features. Read more about these features in the link above. "
   ]
  },
  {
   "cell_type": "code",
   "execution_count": 0,
   "metadata": {
    "colab": {},
    "colab_type": "code",
    "id": "tkHBBheJ_sdi"
   },
   "outputs": [],
   "source": [
    "x_train.shape"
   ]
  },
  {
   "cell_type": "markdown",
   "metadata": {
    "colab_type": "text",
    "id": "ED4txwGBLXLu"
   },
   "source": [
    "For each data point, there is a binary label 0 or 1 where 1 is corresponds to malignant and 0 corresponds to benign. "
   ]
  },
  {
   "cell_type": "code",
   "execution_count": 0,
   "metadata": {
    "colab": {},
    "colab_type": "code",
    "id": "0RQp-xubLTsB"
   },
   "outputs": [],
   "source": [
    "y_train.shape"
   ]
  },
  {
   "cell_type": "markdown",
   "metadata": {
    "colab_type": "text",
    "id": "nNY1v4xmL2Y2"
   },
   "source": [
    "There are 171 examples in the validation data. "
   ]
  },
  {
   "cell_type": "code",
   "execution_count": 0,
   "metadata": {
    "colab": {},
    "colab_type": "code",
    "id": "BUwDtxQaL0_Q"
   },
   "outputs": [],
   "source": [
    "x_val.shape"
   ]
  },
  {
   "cell_type": "code",
   "execution_count": 0,
   "metadata": {
    "colab": {},
    "colab_type": "code",
    "id": "KwUw8j7bMpQq"
   },
   "outputs": [],
   "source": [
    "y_val.shape"
   ]
  },
  {
   "cell_type": "code",
   "execution_count": 0,
   "metadata": {
    "colab": {},
    "colab_type": "code",
    "id": "9WL6UuWoDRY1"
   },
   "outputs": [],
   "source": [
    "project_3_utils.plot_data(x_train, y_train)"
   ]
  },
  {
   "cell_type": "markdown",
   "metadata": {
    "colab_type": "text",
    "id": "ugX6P4gMrhA4"
   },
   "source": [
    "# Exercise 8 (15 points)\n",
    "\n",
    "Using the function you implemented in Exercise 6, create a model. Then compile your model with an optimizer and a loss function. Use [`tf.keras.optimizers.SGD`](https://www.tensorflow.org/api_docs/python/tf/keras/optimizers/SGD) as the optimizer and [`tf.keras.losses.BinaryCrossentropy\n",
    "`](https://www.tensorflow.org/api_docs/python/tf/keras/losses/BinaryCrossentropy) as the loss function.\n",
    "\n",
    "Also define a Python list named `metrics` listing the metrics you want to observe during training. For this binary classification problem a metric that you may want to observe is the accuracy of the model. So `metrics` will have a single metric which is [`tf.keras.metrics.BinaryAccuracy\n",
    "`](https://www.tensorflow.org/api_docs/python/tf/keras/metrics/BinaryAccuracy). You will use this list as the `metrics` argument in the `complie` method."
   ]
  },
  {
   "cell_type": "code",
   "execution_count": 0,
   "metadata": {
    "colab": {},
    "colab_type": "code",
    "id": "LVzBsDSarhA8"
   },
   "outputs": [],
   "source": [
    "########## Your Code goes here #############\n",
    "\n",
    "# TODO: Create the model\n",
    "model = \n",
    "\n",
    "# TODO: Create the SGD optimizer\n",
    "opt = \n",
    "\n",
    "# TODO: Create the binary cross-entropy loss function\n",
    "loss = \n",
    "\n",
    "# TODO: Create a binary accuracy metric\n",
    "metrics = \n",
    "\n",
    "# TODO: Compile the model\n",
    "\n",
    "\n",
    "#############################################\n"
   ]
  },
  {
   "cell_type": "markdown",
   "metadata": {
    "colab_type": "text",
    "id": "k7iPWR32rhBC"
   },
   "source": [
    "# Exercise 9 (10 points)\n",
    "\n",
    "Train the model using [`model.fit`](https://www.tensorflow.org/api_docs/python/tf/keras/Sequential#fit) method. Go over the arguments that this function accepts. For this exercise you will provide the following arguments, `x`, `y`, `batch_size`, `epochs` and `validation_data`. \n",
    "\n",
    "Set the epochs to 100. Assign the return value of the `fit` method to a variable named `history`.\n",
    "\n",
    "`history = model.fit(...)`\n",
    "\n",
    "with `...` replaced by the appropriate arguments. "
   ]
  },
  {
   "cell_type": "code",
   "execution_count": 0,
   "metadata": {
    "colab": {},
    "colab_type": "code",
    "id": "SjpFmrazrhBE"
   },
   "outputs": [],
   "source": [
    "########## Your Code goes here #############\n",
    "\n",
    "history = \n",
    "\n",
    "#############################################"
   ]
  },
  {
   "cell_type": "code",
   "execution_count": 0,
   "metadata": {
    "colab": {},
    "colab_type": "code",
    "id": "3m1JQFfztXYw"
   },
   "outputs": [],
   "source": [
    "pd.DataFrame(history.history).plot()"
   ]
  },
  {
   "cell_type": "code",
   "execution_count": 0,
   "metadata": {
    "colab": {},
    "colab_type": "code",
    "id": "-tG-2x_5QGBV"
   },
   "outputs": [],
   "source": [
    "project_3_utils.plot_data(x_train, y_train)\n",
    "project_3_utils.plot_decision_boundary(model)"
   ]
  },
  {
   "cell_type": "markdown",
   "metadata": {
    "colab_type": "text",
    "id": "ifMUyfXLxcbv"
   },
   "source": [
    "# Exercise 10 (10 points)\n",
    "\n",
    "Now you will train a new logistic regression model using the complete dataset consisting of all 30 features. The following function loads this dataset with all available features. "
   ]
  },
  {
   "cell_type": "code",
   "execution_count": 0,
   "metadata": {
    "colab": {},
    "colab_type": "code",
    "id": "iJlQdhxJtH2t"
   },
   "outputs": [],
   "source": [
    "x_train_complete, x_val_complete, y_train_complete, y_val_complete = project_2_utils.load_data(n_features = 30)"
   ]
  },
  {
   "cell_type": "code",
   "execution_count": 0,
   "metadata": {
    "colab": {},
    "colab_type": "code",
    "id": "ASBP97xDyCqI"
   },
   "outputs": [],
   "source": [
    "print(x_train_complete.shape)\n",
    "print(x_val_complete.shape)\n",
    "print(y_train_complete.shape)\n",
    "print(y_val_complete.shape)"
   ]
  },
  {
   "cell_type": "markdown",
   "metadata": {
    "colab_type": "text",
    "id": "m3L4FWpSzikS"
   },
   "source": [
    "Create a logistic regression model and compile the model. "
   ]
  },
  {
   "cell_type": "code",
   "execution_count": 0,
   "metadata": {
    "colab": {},
    "colab_type": "code",
    "id": "lsWXbPmImutt"
   },
   "outputs": [],
   "source": [
    "########## Your Code goes here #############\n",
    "\n",
    "# TODO: Create the model\n",
    "model = \n",
    "\n",
    "# TODO: Create the optimizer\n",
    "opt = \n",
    "\n",
    "# TODO: Create the loss function\n",
    "loss = \n",
    "\n",
    "# TODO: Create a binary accuracy metric\n",
    "metrics = \n",
    "\n",
    "# TODO: Compile the model\n",
    "\n",
    "\n",
    "#############################################"
   ]
  },
  {
   "cell_type": "markdown",
   "metadata": {
    "colab_type": "text",
    "id": "VHsJO4pOzsRF"
   },
   "source": [
    "Train the model."
   ]
  },
  {
   "cell_type": "code",
   "execution_count": 0,
   "metadata": {
    "colab": {},
    "colab_type": "code",
    "id": "obrw4fY3znBh"
   },
   "outputs": [],
   "source": [
    "########## Your Code goes here #############\n",
    "\n",
    "history = \n",
    "\n",
    "#############################################"
   ]
  },
  {
   "cell_type": "markdown",
   "metadata": {
    "colab_type": "text",
    "id": "XQ3LJPVRbCKA"
   },
   "source": [
    "Plot the learning curves:"
   ]
  },
  {
   "cell_type": "code",
   "execution_count": 0,
   "metadata": {
    "colab": {},
    "colab_type": "code",
    "id": "lfQ32UY5zuQP"
   },
   "outputs": [],
   "source": [
    "pd.DataFrame(history.history).plot()"
   ]
  },
  {
   "cell_type": "code",
   "execution_count": 0,
   "metadata": {
    "colab": {},
    "colab_type": "code",
    "id": "v7CuvXN-AvY0"
   },
   "outputs": [],
   "source": []
  }
 ],
 "metadata": {
  "colab": {
   "collapsed_sections": [],
   "name": "Project-3.ipynb",
   "provenance": [],
   "toc_visible": true
  },
  "kernelspec": {
   "display_name": "Python 3",
   "language": "python",
   "name": "python3"
  },
  "language_info": {
   "codemirror_mode": {
    "name": "ipython",
    "version": 3
   },
   "file_extension": ".py",
   "mimetype": "text/x-python",
   "name": "python",
   "nbconvert_exporter": "python",
   "pygments_lexer": "ipython3",
   "version": "3.7.4"
  }
 },
 "nbformat": 4,
 "nbformat_minor": 1
}
